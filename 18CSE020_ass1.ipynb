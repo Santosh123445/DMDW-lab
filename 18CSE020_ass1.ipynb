{
  "nbformat": 4,
  "nbformat_minor": 0,
  "metadata": {
    "colab": {
      "name": "18CSE020_ass1.ipynb",
      "provenance": [],
      "collapsed_sections": [],
      "authorship_tag": "ABX9TyP1knI0B/FKjRt6gvl5Zohh",
      "include_colab_link": true
    },
    "kernelspec": {
      "name": "python3",
      "display_name": "Python 3"
    }
  },
  "cells": [
    {
      "cell_type": "markdown",
      "metadata": {
        "id": "view-in-github",
        "colab_type": "text"
      },
      "source": [
        "<a href=\"https://colab.research.google.com/github/Santosh123445/DMDW-lab/blob/main/18CSE020_ass1.ipynb\" target=\"_parent\"><img src=\"https://colab.research.google.com/assets/colab-badge.svg\" alt=\"Open In Colab\"/></a>"
      ]
    },
    {
      "cell_type": "code",
      "metadata": {
        "id": "WK-SlIZ40ZRc",
        "outputId": "ca59a48b-3e7f-42c8-be33-2fe7980ffa88",
        "colab": {
          "base_uri": "https://localhost:8080/",
          "height": 50
        }
      },
      "source": [
        "# mean\n",
        "x_list= [11,22,44,33]\n",
        "x_sum= sum(x_list)\n",
        "mean = x_sum/ len(x_list)\n",
        "print(x_list)\n",
        "print(mean)\n"
      ],
      "execution_count": 1,
      "outputs": [
        {
          "output_type": "stream",
          "text": [
            "[11, 22, 44, 33]\n",
            "27.5\n"
          ],
          "name": "stdout"
        }
      ]
    },
    {
      "cell_type": "markdown",
      "metadata": {
        "id": "ElR2Wy290bBk"
      },
      "source": [
        ""
      ]
    },
    {
      "cell_type": "code",
      "metadata": {
        "id": "miHUxDET0bT0",
        "outputId": "2054f0f1-8bf7-4ff6-c20b-5494e253ec35",
        "colab": {
          "base_uri": "https://localhost:8080/",
          "height": 50
        }
      },
      "source": [
        "#median\n",
        "y_list=[11,22,33,44,45,55]\n",
        "y_list.sort()\n",
        "if len(y_list)%2 ==0:\n",
        "    median1= y_list[len(y_list)//2]\n",
        "    median2= y_list[len(y_list)//2-1]\n",
        "    median=(median1+median2)/2\n",
        "else:\n",
        "    median = y_list[len(y_list)//2]\n",
        "print(y_list)\n",
        "print(median)\n"
      ],
      "execution_count": 2,
      "outputs": [
        {
          "output_type": "stream",
          "text": [
            "[11, 22, 33, 44, 45, 55]\n",
            "38.5\n"
          ],
          "name": "stdout"
        }
      ]
    },
    {
      "cell_type": "code",
      "metadata": {
        "id": "JfZ0w3SD0Wk2",
        "outputId": "146fc5f8-34c1-4683-d989-45b8eebdcea3",
        "colab": {
          "base_uri": "https://localhost:8080/",
          "height": 67
        }
      },
      "source": [
        "#mode\n",
        "import collections\n",
        "z_list=[11,22,33,33,44,55,55,55,66]\n",
        "print(z_list)\n",
        "d= collections.Counter(z_list)\n",
        "d_list = dict(d)\n",
        "print(d_list)\n",
        "max_value= max(list(d.values()))\n",
        "mode_val =[z for z, freq in d_list.items() if freq==max_value]\n",
        "if len(mode_val) == len(z_list):\n",
        "               print(\"no mode\")\n",
        "else:\n",
        "    print(\"the mode is\" +','.join(map(str,mode_val)))\n"
      ],
      "execution_count": 3,
      "outputs": [
        {
          "output_type": "stream",
          "text": [
            "[11, 22, 33, 33, 44, 55, 55, 55, 66]\n",
            "{11: 1, 22: 1, 33: 2, 44: 1, 55: 3, 66: 1}\n",
            "the mode is55\n"
          ],
          "name": "stdout"
        }
      ]
    },
    {
      "cell_type": "code",
      "metadata": {
        "id": "B-oatWDs4wJ1"
      },
      "source": [
        ""
      ],
      "execution_count": null,
      "outputs": []
    }
  ]
}